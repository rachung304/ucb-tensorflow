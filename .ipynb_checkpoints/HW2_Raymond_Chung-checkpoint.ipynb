{
 "cells": [
  {
   "cell_type": "code",
   "execution_count": 1,
   "metadata": {},
   "outputs": [],
   "source": [
    "import tensorflow as tf\n",
    "import numpy as np"
   ]
  },
  {
   "cell_type": "code",
   "execution_count": 2,
   "metadata": {},
   "outputs": [],
   "source": [
    "sess = tf.Session()"
   ]
  },
  {
   "cell_type": "code",
   "execution_count": 3,
   "metadata": {},
   "outputs": [],
   "source": [
    "# Placeholder for an input array with dtype float32 and shape None\n",
    "with tf.name_scope(\"Input_placeholder\"):\n",
    "    a = tf.placeholder(tf.int32, shape=None, name=\"input_a\")"
   ]
  },
  {
   "cell_type": "code",
   "execution_count": 4,
   "metadata": {},
   "outputs": [],
   "source": [
    "# Scopes for the input, middle section and final node f\n",
    "with tf.name_scope(\"Middle_section\"):\n",
    "    b = tf.reduce_prod(a, name=\"prod_b\")\n",
    "    c = tf.reduce_mean(a, name=\"mean_c\")\n",
    "    d = tf.reduce_sum(a, name=\"sum_d\")\n",
    "    e = tf.add(c, b, name=\"add_e\")\n",
    "    \n",
    "with tf.name_scope(\"Final_node\"):\n",
    "    f = tf.multiply(e, d, name=\"mul_f\")"
   ]
  },
  {
   "cell_type": "code",
   "execution_count": 5,
   "metadata": {},
   "outputs": [],
   "source": [
    "# Feed the placeholder with an array A consis=ng of 100 normally distributed random numbers with \n",
    "# mean = 1 and standard deviation = 2\n",
    "input_dict = {a: np.random.normal(1, 2, 100)}"
   ]
  },
  {
   "cell_type": "code",
   "execution_count": 6,
   "metadata": {},
   "outputs": [],
   "source": [
    "# Save your graph and show it in TensorBoard\n",
    "writer = tf.summary.FileWriter('./name_scope_HW2', graph=tf.get_default_graph())\n",
    "writer.close()"
   ]
  },
  {
   "cell_type": "code",
   "execution_count": 7,
   "metadata": {},
   "outputs": [
    {
     "data": {
      "text/plain": [
       "array([ 1,  2,  0,  0,  2,  3,  0,  1,  3,  1,  1,  0,  1,  1,  2,  0, -1,\n",
       "        4,  1,  4,  0, -1,  1,  0,  0,  1, -2, -2,  0, -1,  0,  0,  1,  2,\n",
       "        1,  0,  1,  2,  0, -2,  2,  0, -1, -2, -1,  0,  2,  0,  4,  2, -1,\n",
       "        2,  0, -1,  0,  1, -1,  0,  0, -2,  0,  2,  2,  1,  0,  3,  0,  2,\n",
       "        0,  3,  0,  1,  2,  1,  3,  0,  0, -1, -2,  0, -1,  0,  0,  4,  0,\n",
       "       -2,  2,  0,  0,  3, -1,  2,  3,  1,  2,  1,  1,  2, -1,  1], dtype=int32)"
      ]
     },
     "execution_count": 7,
     "metadata": {},
     "output_type": "execute_result"
    }
   ],
   "source": [
    "sess.run(a, feed_dict=input_dict)"
   ]
  },
  {
   "cell_type": "code",
   "execution_count": null,
   "metadata": {},
   "outputs": [],
   "source": []
  }
 ],
 "metadata": {
  "kernelspec": {
   "display_name": "Python 3",
   "language": "python",
   "name": "python3"
  },
  "language_info": {
   "codemirror_mode": {
    "name": "ipython",
    "version": 3
   },
   "file_extension": ".py",
   "mimetype": "text/x-python",
   "name": "python",
   "nbconvert_exporter": "python",
   "pygments_lexer": "ipython3",
   "version": "3.6.5"
  }
 },
 "nbformat": 4,
 "nbformat_minor": 2
}
