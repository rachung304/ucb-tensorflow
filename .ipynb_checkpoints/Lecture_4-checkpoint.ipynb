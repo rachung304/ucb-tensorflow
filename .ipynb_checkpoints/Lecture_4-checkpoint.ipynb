{
 "cells": [
  {
   "cell_type": "code",
   "execution_count": 1,
   "metadata": {},
   "outputs": [],
   "source": [
    "import tensorflow as tf"
   ]
  },
  {
   "cell_type": "code",
   "execution_count": 2,
   "metadata": {},
   "outputs": [],
   "source": [
    "import numpy as np"
   ]
  },
  {
   "cell_type": "markdown",
   "metadata": {},
   "source": [
    "## Supervised Machine Learning\n",
    "#### The two groups of supervised learning are:\n",
    "- Classification: A classification problem is when the output variable is a category\n",
    "- Regression: A regression problem is when the output variable is a real value\n",
    "\n",
    "#### Some popular examples of supervised machine learning algorithms are:\n",
    "- Linear regression for regression problems\n",
    "- Random Forest for classification and regresion problems\n",
    "- Support vector machines (SVM) for classification problems"
   ]
  },
  {
   "cell_type": "markdown",
   "metadata": {},
   "source": [
    "## Unsupervised Machine Learning\n",
    "- Unsupervised learning is where you only have input data and no corresponding output variables\n",
    "- The goal for unsupervised learning is to model the underlying stgructure or distribution in the data in order to learn more about the data\n",
    "- These are called unsupervised learning because unlike supervised learning above there is no correct answers and there is not teacher. Algorithms are left to their own devises to discover and present the interesting structure in the data\n",
    "\n",
    "#### Unsupervised Learning problems can be further grouped into clustering and association problems:\n",
    "- Clustering: A clustering problem is where you want to discover the inherent groupings in the data, such grouping customers by puchasing behavior\n",
    "- Association: An association rule learning problem is where you want to discover rules that describe large portions of your data, such as people that buy X also tend to buy Y.\n",
    "\n",
    "#### Some popular examples of unsupervised learning algorithms are:\n",
    "- k-means for clustering problems\n",
    "- A priori algorithm for association rule learning problems"
   ]
  },
  {
   "cell_type": "markdown",
   "metadata": {},
   "source": [
    "## Semi-Supervised Machine Learning\n",
    "- Problems where we have a large amount of input data and only some of it is labeled (Y) are called semi-supervised learning problems\n",
    "- These problems sit in between both supervised and unsupervised learning\n",
    "- A good example is a photo archive where only some of the images are labeled, (e.g. dog, cat, person) and the majority are unlabeled\n",
    "- Many real world machine learning problems fall into this area\n",
    "- It can be expensive or time-consuming to label data as it may require access to domain experts\n",
    "- Hence unlabeled data is cheap and eash to collect and store\n",
    "- You can use supervised learning techniques to discover and learn the structure in the input variables\n",
    "- you can also use supervised learning techniques to make best guess predictions for the unlabeled data, feed that data back into the supervised algorithm as training data and use the model to make predictions on new unseen data (back propogation)"
   ]
  },
  {
   "cell_type": "markdown",
   "metadata": {},
   "source": [
    "## Association Learning\n",
    "#### Can be applied if no class is specified and any kind of structure is considered \"interesting\"\n",
    "#### Difference to Classification Learning:\n",
    "- Can predict any attribute's value\n"
   ]
  },
  {
   "cell_type": "markdown",
   "metadata": {},
   "source": [
    "## Clustering\n",
    "#### Finding groups of items that are similar\n",
    "#### Clustering is unsupervised\n",
    "- The class of an example is not known\n",
    "\n",
    "- Sucess often measured subjectively\n",
    "- Clustering techniques apply when there is no calss to be predicted: they perform unsupervised learning\n",
    "- Aim: divide instanves into \"natural\" groups\n",
    "\n",
    "#### Clusters can be:\n",
    "- disjoint vs. overlapping\n",
    "- deterministic vs. probablistic\n",
    "- flat vs. hierarchial"
   ]
  },
  {
   "cell_type": "markdown",
   "metadata": {},
   "source": [
    "## Numeric prediction\n",
    "- Variant of classification learning where \"class\" is numeric (also called regression)\n",
    "- Each instance is described by a fixed predefined set of features, its attributes\n",
    "- But, number of attributes may vary in practice\n",
    "    - Possible solution: \"irrelevant value\" flag\n",
    "- Related Problem: existence of an attribute may depend on value of another one"
   ]
  },
  {
   "cell_type": "markdown",
   "metadata": {},
   "source": [
    "## The k-means algorithm\n",
    "- Step 1: Choose k random cluster centers\n",
    "- Step 2: Assign each instance to its closest cluster center based on Euclidean distance\n",
    "- Step 3: Re-compute cluster centers by computing the average (aka centroid) of the instances pertaining to each cluster\n",
    "- Step 4: If cluster centers have moved, go back to step 2\n",
    "\n",
    "#### This algorithm minimizes the squared Euclidean distance of the instances from their corresponding cluster centers\n",
    "- determines a solution that achieves a local minimum of the squared Euclidean distance\n",
    "\n",
    "#### Equivalent termination criterion: stop when assignment of instances to cluster centers..."
   ]
  },
  {
   "cell_type": "markdown",
   "metadata": {},
   "source": [
    "## K-Means with Tensorflow\n",
    "#### Example"
   ]
  },
  {
   "cell_type": "code",
   "execution_count": 3,
   "metadata": {},
   "outputs": [],
   "source": [
    "import matplotlib.pyplot as plt"
   ]
  },
  {
   "cell_type": "code",
   "execution_count": 4,
   "metadata": {},
   "outputs": [],
   "source": [
    "# Create aliases:\n",
    "tf.sub = tf.subtract"
   ]
  },
  {
   "cell_type": "code",
   "execution_count": 5,
   "metadata": {},
   "outputs": [],
   "source": [
    "points_n = 200\n",
    "clusters_n = 3\n",
    "iterations_n = 100"
   ]
  },
  {
   "cell_type": "markdown",
   "metadata": {},
   "source": [
    "#### 1. Let's generate random data points with a uniform distribution and assign them to a 2D tensor constant. Then, randomly choose initial centroids from the set of data points\n"
   ]
  },
  {
   "cell_type": "code",
   "execution_count": 6,
   "metadata": {},
   "outputs": [],
   "source": [
    "points = tf.constant(np.random.uniform(0, 10, (points_n, 2)))\n",
    "centroids = tf.Variable(tf.slice(tf.random_shuffle(points), [0, 0], [clusters_n, -1]))"
   ]
  },
  {
   "cell_type": "markdown",
   "metadata": {},
   "source": [
    "#### 2. Next we want to be able to do element-wise subtraction of points and centroids that are 2D tensors. Because the tensors have different shape, let's expand points and centroids into 3 dimensions, which allows us to use the broadcasting feature of subtraction operation:"
   ]
  },
  {
   "cell_type": "code",
   "execution_count": 7,
   "metadata": {},
   "outputs": [],
   "source": [
    "points_expanded = tf.expand_dims(points, 0)\n",
    "centroids_expanded = tf.expand_dims(centroids, 1)"
   ]
  },
  {
   "cell_type": "code",
   "execution_count": 8,
   "metadata": {},
   "outputs": [
    {
     "data": {
      "text/plain": [
       "(200, 2)"
      ]
     },
     "execution_count": 8,
     "metadata": {},
     "output_type": "execute_result"
    }
   ],
   "source": [
    "sess = tf.Session()\n",
    "init = tf.global_variables_initializer()\n",
    "sess.run(init)\n",
    "sess.run(points).shape"
   ]
  },
  {
   "cell_type": "code",
   "execution_count": 9,
   "metadata": {},
   "outputs": [
    {
     "data": {
      "text/plain": [
       "(1, 200, 2)"
      ]
     },
     "execution_count": 9,
     "metadata": {},
     "output_type": "execute_result"
    }
   ],
   "source": [
    "sess.run(points_expanded).shape"
   ]
  },
  {
   "cell_type": "code",
   "execution_count": 10,
   "metadata": {},
   "outputs": [
    {
     "data": {
      "text/plain": [
       "(3, 2)"
      ]
     },
     "execution_count": 10,
     "metadata": {},
     "output_type": "execute_result"
    }
   ],
   "source": [
    "sess.run(centroids).shape"
   ]
  },
  {
   "cell_type": "code",
   "execution_count": 11,
   "metadata": {},
   "outputs": [
    {
     "data": {
      "text/plain": [
       "(3, 1, 2)"
      ]
     },
     "execution_count": 11,
     "metadata": {},
     "output_type": "execute_result"
    }
   ],
   "source": [
    "sess.run(centroids_expanded).shape"
   ]
  },
  {
   "cell_type": "markdown",
   "metadata": {},
   "source": [
    "#### 3. Then, calculate the distances between points and centroids and determine the cluster assignments:"
   ]
  },
  {
   "cell_type": "code",
   "execution_count": 12,
   "metadata": {},
   "outputs": [],
   "source": [
    "distances = tf.reduce_sum(tf.square(tf.sub(points_expanded, centroids_expanded)),2)\n",
    "assignments = tf.argmin(distances, 0)"
   ]
  },
  {
   "cell_type": "code",
   "execution_count": 13,
   "metadata": {},
   "outputs": [],
   "source": [
    "means = []\n",
    "for c in range(clusters_n):\n",
    "    means.append(tf.reduce_mean(tf.gather(points, tf.reshape(tf.where(tf.equal(assignments, c)), [1, -1])), reduction_indices=[1]))"
   ]
  },
  {
   "cell_type": "markdown",
   "metadata": {},
   "source": [
    "#### 4. Next, we can compare each cluster with a cluster assignments vector, get points assigned to each cluster, and calculate mean values. These mean values are refined centroids, so let's update the centroids variable with the new values"
   ]
  },
  {
   "cell_type": "code",
   "execution_count": 14,
   "metadata": {},
   "outputs": [],
   "source": [
    "new_centroids = tf.concat(means, 0)\n",
    "\n",
    "update_centroids = tf.assign(centroids, new_centroids)\n",
    "init = tf.global_variables_initializer()"
   ]
  },
  {
   "cell_type": "markdown",
   "metadata": {},
   "source": [
    "#### 5. Next we run the graph. For each iteration, we update the centroids and return their values along with the cluster assignments value:"
   ]
  },
  {
   "cell_type": "code",
   "execution_count": 15,
   "metadata": {},
   "outputs": [],
   "source": [
    "with tf.Session() as sess:\n",
    "    sess.run(init)\n",
    "    for step in range(iterations_n):\n",
    "        [_, centroid_values, points_values, assignment_values] = sess.run([update_centroids, centroids, points, assignments])\n",
    "        "
   ]
  },
  {
   "cell_type": "markdown",
   "metadata": {},
   "source": [
    "#### 6. Finally, we display the coordinates of the final centroids and a multi-colored scatter plot showing how the data points have been clustered:"
   ]
  },
  {
   "cell_type": "code",
   "execution_count": 22,
   "metadata": {},
   "outputs": [
    {
     "name": "stdout",
     "output_type": "stream",
     "text": [
      "centroids\n",
      " [[ 6.179339    8.09819285]\n",
      " [ 7.03472125  2.3388133 ]\n",
      " [ 1.73368597  4.78951967]]\n"
     ]
    },
    {
     "data": {
      "image/png": "[encoded data removed]",
      "text/plain": [
       "<Figure size 432x288 with 1 Axes>"
      ]
     },
     "metadata": {},
     "output_type": "display_data"
    }
   ],
   "source": [
    "print(\"centroids\" + \"\\n\", centroid_values)\n",
    "\n",
    "plt.scatter(points_values[:,0], points_values[:,1], c=assignment_values, s=50, alpha=0.5)\n",
    "plt.plot(centroid_values[:,0], centroid_values[:,1], 'kx', markersize=15)\n",
    "plt.pause(1)    "
   ]
  },
  {
   "cell_type": "markdown",
   "metadata": {},
   "source": [
    "The data in a training set is grouped into clusters as the result of implementing the k-means algorithm in TensorFlow"
   ]
  },
  {
   "cell_type": "markdown",
   "metadata": {},
   "source": [
    "#### The models may vary significantly in:\n",
    "- the number of operations they use (multiply, add, etc.)\n",
    "- the way they combine\n",
    "- the number of parameters they have\n",
    "\n",
    "#### Regardless, we always apply the same general structure for training them:\n",
    "1. Initialize model parameters for the first time\n",
    "2. Input training data along with the expected output data for each data example\n",
    "3. Execute inference model on training data, so it calculates for each training input example\n",
    "4. Compute the loss\n",
    "5. to 2. Adjust model parameters"
   ]
  },
  {
   "cell_type": "markdown",
   "metadata": {},
   "source": [
    "#### The loop repeats this process through a number of cycles, according to:\n",
    "- the learning rate that we need to apply, and\n",
    "- depending on the model and data we input to it\n",
    "\n",
    "#### After training, we apply an evaluation phase:\n",
    "- we execute the inference against a different set data to which we also have the expected output, and evaluate the loss for it"
   ]
  },
  {
   "cell_type": "code",
   "execution_count": 23,
   "metadata": {},
   "outputs": [],
   "source": [
    "## Initialize variables/model parameters\n",
    "\n",
    "## define the training loop operations\n",
    "# def inference(X):\n",
    "    ## compute inference model over data X and return the result\n",
    "\n",
    "# def loss(X, Y):\n",
    "    ## compute loss over training data X and expected outputs Y\n",
    "    \n",
    "# def inputs():\n",
    "    ## read/generate input training data X and expected outputs Y\n",
    "\n",
    "# def train(total_loss):\n",
    "    ## train/adjust model parameters according to computed total loss\n",
    "    \n",
    "# def evaluate(sess, X, Y):\n",
    "    ## evaluate the resulting trained model"
   ]
  },
  {
   "cell_type": "code",
   "execution_count": 18,
   "metadata": {},
   "outputs": [],
   "source": [
    "# # Launch the graph in a session, setup boilerplate\n",
    "# with tf.Session() as sess:\n",
    "#     tf.initialize_all_variables.run()\n",
    "    \n",
    "#     X, Y = inputs()\n",
    "    \n",
    "#     total_loss = loss(X, Y)\n",
    "#     train_op = train(total_loss)\n",
    "\n",
    "#     coord = tf.traing.Coordinator()\n",
    "#     threads = tf.train.start_queue_runners(sess=sess, coord=coord)\n",
    "    \n",
    "#     # actual training loop\n",
    "#     training_steps = 1000\n",
    "#     for step in range(training_steps):\n",
    "#         sess.run([train_op])\n",
    "#         # for debugging and learning purposes, \n",
    "#         # see how the loss gets decremented thre training steps"
   ]
  },
  {
   "cell_type": "code",
   "execution_count": null,
   "metadata": {},
   "outputs": [],
   "source": [
    "#         if step % 10 == 0:\n",
    "#             print \"loss: \", sess.run([total_loss])\n",
    "#     evaluate(sess, X, Y)\n",
    "    \n",
    "#     coord.request_stop()\n",
    "#     coord.join(threads)\n",
    "#     sess.close()"
   ]
  },
  {
   "cell_type": "markdown",
   "metadata": {},
   "source": [
    "- As we already stated, training models implies updating their parameters, or variables in TF, through many training cycles\n",
    "- We use tf.train.Saver"
   ]
  },
  {
   "cell_type": "code",
   "execution_count": 19,
   "metadata": {},
   "outputs": [],
   "source": [
    "# saver = tf.train.Saver()\n",
    "\n",
    "# with tf.Session() as sess:\n",
    "#     for step in range(training_steps):\n",
    "#         sess.run([train_op])\n",
    "        \n",
    "#         if step % 1000 == 0:\n",
    "#             saver.save(sess, 'my-model', global_step=step)\n",
    "    \n",
    "#     # evaluation\n",
    "    \n",
    "#     saver.save(sess, 'my-model', global_training_step=step)\n",
    "#     sess.close()"
   ]
  },
  {
   "cell_type": "markdown",
   "metadata": {},
   "source": [
    "- if we wish to recover the training from a certain point, we should use the tf.train_checkpoint_state() method\n",
    "- It will verify if we already have a checkpoint saved, and the tf.train.Saver.restore() method to recover the variable values"
   ]
  },
  {
   "cell_type": "markdown",
   "metadata": {},
   "source": [
    "- We will use the gradient descent algorithm"
   ]
  },
  {
   "cell_type": "code",
   "execution_count": 20,
   "metadata": {},
   "outputs": [],
   "source": [
    "# def train(total_loss):\n",
    "#     learning_rate = 0.0000001\n",
    "#     return tf.train.GradientDescentOptimizer(learning_rate).minimize(total_loss)"
   ]
  },
  {
   "cell_type": "markdown",
   "metadata": {},
   "source": [
    "- when you run it, you will see printed how the loss gets smaller on each training step"
   ]
  },
  {
   "cell_type": "code",
   "execution_count": 21,
   "metadata": {},
   "outputs": [],
   "source": [
    "# def evaluate(sess, X, Y):\n",
    "#     print sess.run(inference([[80., 25.]])) # ~ 303\n",
    "#     print sess.run(inference([[65., 25.]])) # ~ 256"
   ]
  },
  {
   "cell_type": "code",
   "execution_count": null,
   "metadata": {},
   "outputs": [],
   "source": []
  }
 ],
 "metadata": {
  "kernelspec": {
   "display_name": "Python 3",
   "language": "python",
   "name": "python3"
  },
  "language_info": {
   "codemirror_mode": {
    "name": "ipython",
    "version": 3
   },
   "file_extension": ".py",
   "mimetype": "text/x-python",
   "name": "python",
   "nbconvert_exporter": "python",
   "pygments_lexer": "ipython3",
   "version": "3.6.5"
  }
 },
 "nbformat": 4,
 "nbformat_minor": 2
}
