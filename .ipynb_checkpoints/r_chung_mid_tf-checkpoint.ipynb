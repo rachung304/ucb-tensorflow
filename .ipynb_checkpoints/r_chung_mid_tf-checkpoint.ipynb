{
 "cells": [
  {
   "cell_type": "code",
   "execution_count": 1,
   "metadata": {},
   "outputs": [],
   "source": [
    "import tensorflow as tf\n",
    "import numpy as np\n",
    "import matplotlib.pyplot as plt"
   ]
  },
  {
   "cell_type": "code",
   "execution_count": 2,
   "metadata": {},
   "outputs": [],
   "source": [
    "def run_graph(input_tensor):\n",
    "    feed_dict = {a: input_tensor}\n",
    "    print(input_tensor)\n",
    "    _, step, summary = sess.run([SMA, increment_step, merged_summaries], feed_dict=feed_dict)\n",
    "    writer.add_summary(summary, global_step=step)\n"
   ]
  },
  {
   "cell_type": "code",
   "execution_count": 3,
   "metadata": {},
   "outputs": [],
   "source": [
    "graph = tf.Graph()"
   ]
  },
  {
   "cell_type": "code",
   "execution_count": 4,
   "metadata": {},
   "outputs": [],
   "source": [
    "with graph.as_default():\n",
    "    # Creates a placeholder vector of user defined length with data type int32\n",
    "    with tf.name_scope(\"Input_vector\"):\n",
    "        a = tf.placeholder(tf.float32, shape=[None], name=\"my_vector\") \n",
    "        \n",
    "    # calculate SMA moving average\n",
    "    with tf.name_scope(\"SMA_section\"):\n",
    "        b = tf.reduce_mean(a, name=\"SMA\")\n",
    "        tf.summary.scalar('SMA', b)\n",
    "\n",
    "    with tf.name_scope(\"Variables\"):\n",
    "#         previous_value = tf.Variable(0.0, dtype=tf.float32, trainable=False, name=\"previous_value\")\n",
    "#         update_value = tf.assign(b)\n",
    "\n",
    "        global_step = tf.Variable(0, dtype=tf.int32, trainable=False, name=\"global_step\")\n",
    "        increment_step = global_step.assign_add(1)\n",
    "        \n",
    "    with tf.name_scope(\"SMA_summary\"):\n",
    "        init = tf.global_variables_initializer()\n",
    "        merged_summaries = tf.summary.merge_all()\n",
    "        "
   ]
  },
  {
   "cell_type": "code",
   "execution_count": 5,
   "metadata": {},
   "outputs": [],
   "source": [
    "#save summary\n",
    "# To run we have to add the two extra lines or run them in the shell:\n",
    "sess = tf.Session(graph=graph)\n",
    "writer = tf.summary.FileWriter('./moving_average', graph)\n",
    "sess.run(init)\n"
   ]
  },
  {
   "cell_type": "code",
   "execution_count": 6,
   "metadata": {},
   "outputs": [
    {
     "name": "stdout",
     "output_type": "stream",
     "text": [
      "Enter the length of your random vector: 8\n",
      "Enter the length of the window width: 2\n",
      "The step of SMA will be 1\n",
      "\n"
     ]
    }
   ],
   "source": [
    "## User input to define the length of your vector and the window width\n",
    "random_length = int(input(\"Enter the length of your random vector: \"))\n",
    "window_width = int(input(\"Enter the length of the window width: \"))\n",
    "print(\"The step of SMA will be 1\\n\")\n",
    "vector = np.random.normal(1, 2, random_length)"
   ]
  },
  {
   "cell_type": "code",
   "execution_count": 7,
   "metadata": {},
   "outputs": [
    {
     "name": "stdout",
     "output_type": "stream",
     "text": [
      "[-1.32795391  2.7281049 ]\n",
      "[ 2.7281049  -3.55181935]\n",
      "[-3.55181935  0.11697098]\n",
      "[ 0.11697098  4.72340215]\n",
      "[ 4.72340215  1.087401  ]\n",
      "[ 1.087401    0.51395138]\n",
      "[ 0.51395138  3.875447  ]\n"
     ]
    }
   ],
   "source": [
    "i = 0\n",
    "j = i+window_width\n",
    "while j <= len(vector):\n",
    "#     print(i)\n",
    "    input_vector = vector[i:j]\n",
    "    i += 1\n",
    "    j += 1\n",
    "#     print(vector)\n",
    "#     print(type(input_vector))\n",
    "\n",
    "    run_graph(input_vector)\n",
    "    "
   ]
  },
  {
   "cell_type": "code",
   "execution_count": 8,
   "metadata": {},
   "outputs": [],
   "source": [
    "writer.flush()\n",
    "writer.close()\n",
    "sess.close()"
   ]
  }
 ],
 "metadata": {
  "kernelspec": {
   "display_name": "Python 3",
   "language": "python",
   "name": "python3"
  },
  "language_info": {
   "codemirror_mode": {
    "name": "ipython",
    "version": 3
   },
   "file_extension": ".py",
   "mimetype": "text/x-python",
   "name": "python",
   "nbconvert_exporter": "python",
   "pygments_lexer": "ipython3",
   "version": "3.6.5"
  }
 },
 "nbformat": 4,
 "nbformat_minor": 2
}
