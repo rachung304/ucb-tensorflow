{
 "cells": [
  {
   "cell_type": "code",
   "execution_count": 1,
   "metadata": {},
   "outputs": [],
   "source": [
    "import numpy as np\n",
    "import tensorflow as tf\n",
    "import matplotlib.pyplot as plt"
   ]
  },
  {
   "cell_type": "code",
   "execution_count": 2,
   "metadata": {},
   "outputs": [],
   "source": [
    "learning_rate = 0.01\n",
    "training_epochs = 500"
   ]
  },
  {
   "cell_type": "markdown",
   "metadata": {},
   "source": [
    "Defining the sigmoid function:"
   ]
  },
  {
   "cell_type": "code",
   "execution_count": 3,
   "metadata": {},
   "outputs": [],
   "source": [
    "def sigmoid(x):\n",
    "    return 1. / (1. + np.exp(-x))"
   ]
  },
  {
   "cell_type": "markdown",
   "metadata": {},
   "source": [
    "Create out data points on the x and y axis"
   ]
  },
  {
   "cell_type": "code",
   "execution_count": 4,
   "metadata": {
    "scrolled": true
   },
   "outputs": [
    {
     "data": {
      "text/plain": [
       "<matplotlib.collections.PathCollection at 0x1191946d8>"
      ]
     },
     "execution_count": 4,
     "metadata": {},
     "output_type": "execute_result"
    },
    {
     "data": {
      "image/png": "[encoded data removed]",
      "text/plain": [
       "<Figure size 432x288 with 1 Axes>"
      ]
     },
     "metadata": {},
     "output_type": "display_data"
    }
   ],
   "source": [
    "x1 = np.random.normal(5,3,100)\n",
    "x2 = np.random.normal(-5, 3, 100)\n",
    "xs = np.append(x1, x2)\n",
    "ys = np.asarray([0.] * len(x1) + [1.] * len(x2))\n",
    "plt.scatter(xs, ys)"
   ]
  },
  {
   "cell_type": "markdown",
   "metadata": {},
   "source": [
    "Create our parameters and placeholders for X and Y to feed them with the data above:"
   ]
  },
  {
   "cell_type": "code",
   "execution_count": 5,
   "metadata": {},
   "outputs": [],
   "source": [
    "X = tf.placeholder(tf.float32, shape=(None,), name=\"x\")\n",
    "Y = tf.placeholder(tf.float32, shape=(None,), name=\"y\")\n",
    "w = tf.Variable([0., 0.], name=\"parameter\", trainable=True)\n",
    "y_model = tf.sigmoid(-(w[1] * X + w[0]))"
   ]
  },
  {
   "cell_type": "markdown",
   "metadata": {},
   "source": [
    "Calculate the cost and adaptation (learning):"
   ]
  },
  {
   "cell_type": "code",
   "execution_count": 6,
   "metadata": {},
   "outputs": [],
   "source": [
    "cost = tf.reduce_mean(-tf.log(y_model * Y + (1 - y_model) * (1 - Y)))\n",
    "train_op = tf.train.GradientDescentOptimizer(learning_rate).minimize(cost)"
   ]
  },
  {
   "cell_type": "markdown",
   "metadata": {},
   "source": [
    "Run the model:"
   ]
  },
  {
   "cell_type": "code",
   "execution_count": 7,
   "metadata": {},
   "outputs": [
    {
     "name": "stdout",
     "output_type": "stream",
     "text": [
      "0 0.693147\n",
      "1 0.632202\n",
      "2 0.581404\n",
      "3 0.538872\n",
      "4 0.50302\n",
      "5 0.472553\n",
      "6 0.446441\n",
      "7 0.42387\n",
      "8 0.4042\n",
      "9 0.386925\n",
      "10 0.371644\n",
      "11 0.358037\n",
      "12 0.345845\n",
      "13 0.33486\n",
      "14 0.324911\n",
      "15 0.315857\n",
      "16 0.307582\n",
      "17 0.299988\n",
      "18 0.292993\n",
      "19 0.286528\n",
      "20 0.280534\n",
      "21 0.274959\n",
      "22 0.26976\n",
      "23 0.2649\n",
      "24 0.260345\n",
      "25 0.256067\n",
      "26 0.25204\n",
      "27 0.248243\n",
      "28 0.244655\n",
      "29 0.241259\n",
      "30 0.238039\n",
      "31 0.234983\n",
      "32 0.232076\n",
      "33 0.229308\n",
      "34 0.226669\n",
      "35 0.224149\n",
      "36 0.221741\n",
      "37 0.219437\n",
      "38 0.21723\n",
      "39 0.215114\n",
      "40 0.213082\n",
      "41 0.211131\n",
      "42 0.209254\n",
      "43 0.207448\n",
      "44 0.205708\n",
      "45 0.204031\n",
      "46 0.202413\n",
      "47 0.200852\n",
      "48 0.199343\n",
      "49 0.197884\n",
      "50 0.196473\n",
      "51 0.195108\n",
      "52 0.193785\n",
      "53 0.192503\n",
      "54 0.19126\n",
      "55 0.190055\n",
      "56 0.188884\n",
      "57 0.187748\n",
      "58 0.186643\n",
      "59 0.18557\n",
      "60 0.184526\n",
      "61 0.18351\n",
      "62 0.182522\n",
      "63 0.181559\n",
      "64 0.180621\n",
      "65 0.179708\n",
      "66 0.178817\n",
      "67 0.177948\n",
      "68 0.1771\n",
      "69 0.176273\n",
      "70 0.175465\n",
      "71 0.174676\n",
      "72 0.173906\n",
      "73 0.173153\n",
      "74 0.172417\n",
      "75 0.171697\n",
      "76 0.170993\n",
      "77 0.170305\n",
      "78 0.169631\n",
      "79 0.168971\n",
      "80 0.168325\n",
      "81 0.167693\n",
      "82 0.167073\n",
      "83 0.166466\n",
      "84 0.165871\n",
      "85 0.165287\n",
      "86 0.164715\n",
      "87 0.164154\n",
      "88 0.163604\n",
      "89 0.163064\n",
      "90 0.162534\n",
      "91 0.162014\n",
      "92 0.161503\n",
      "93 0.161002\n",
      "94 0.160509\n",
      "95 0.160026\n",
      "96 0.15955\n",
      "97 0.159083\n",
      "98 0.158624\n",
      "99 0.158173\n",
      "100 0.15773\n",
      "101 0.157293\n",
      "102 0.156864\n",
      "103 0.156442\n",
      "104 0.156027\n",
      "105 0.155619\n",
      "106 0.155217\n",
      "107 0.154821\n",
      "108 0.154431\n",
      "109 0.154048\n",
      "110 0.15367\n",
      "111 0.153299\n",
      "112 0.152932\n",
      "113 0.152572\n",
      "114 0.152216\n",
      "115 0.151866\n",
      "116 0.151521\n",
      "117 0.151181\n",
      "118 0.150846\n",
      "119 0.150516\n",
      "120 0.15019\n",
      "121 0.149869\n",
      "122 0.149552\n",
      "123 0.14924\n",
      "124 0.148932\n",
      "125 0.148628\n",
      "126 0.148328\n",
      "127 0.148032\n",
      "128 0.14774\n",
      "129 0.147452\n",
      "130 0.147168\n",
      "131 0.146887\n",
      "132 0.14661\n",
      "133 0.146337\n",
      "134 0.146067\n",
      "135 0.145801\n",
      "136 0.145537\n",
      "137 0.145277\n",
      "138 0.145021\n",
      "139 0.144767\n",
      "140 0.144517\n",
      "141 0.144269\n",
      "142 0.144025\n",
      "143 0.143783\n",
      "144 0.143544\n",
      "145 0.143309\n",
      "146 0.143075\n",
      "147 0.142845\n",
      "148 0.142617\n",
      "149 0.142392\n",
      "150 0.142169\n",
      "151 0.141949\n",
      "152 0.141732\n",
      "153 0.141517\n",
      "154 0.141304\n",
      "155 0.141093\n",
      "156 0.140885\n",
      "157 0.140679\n",
      "158 0.140476\n",
      "159 0.140274\n",
      "160 0.140075\n",
      "161 0.139878\n",
      "162 0.139683\n",
      "163 0.13949\n",
      "164 0.139299\n",
      "165 0.13911\n",
      "166 0.138923\n",
      "167 0.138738\n",
      "168 0.138555\n",
      "169 0.138373\n",
      "170 0.138194\n",
      "171 0.138016\n",
      "172 0.13784\n",
      "173 0.137666\n",
      "174 0.137493\n",
      "175 0.137323\n",
      "176 0.137153\n",
      "177 0.136986\n",
      "178 0.13682\n",
      "179 0.136656\n",
      "180 0.136493\n",
      "181 0.136332\n",
      "182 0.136172\n",
      "183 0.136014\n",
      "184 0.135858\n",
      "185 0.135703\n",
      "186 0.135549\n",
      "187 0.135397\n",
      "188 0.135246\n",
      "189 0.135096\n",
      "190 0.134948\n",
      "191 0.134801\n",
      "192 0.134656\n",
      "193 0.134512\n",
      "194 0.134369\n",
      "195 0.134227\n",
      "196 0.134087\n",
      "197 0.133948\n",
      "198 0.13381\n",
      "199 0.133673\n",
      "200 0.133537\n",
      "201 0.133403\n",
      "202 0.13327\n",
      "203 0.133138\n",
      "204 0.133007\n",
      "205 0.132877\n",
      "206 0.132748\n",
      "207 0.132621\n",
      "208 0.132494\n",
      "209 0.132368\n",
      "210 0.132244\n",
      "211 0.132121\n",
      "212 0.131998\n",
      "213 0.131877\n",
      "214 0.131756\n",
      "215 0.131637\n",
      "216 0.131518\n",
      "217 0.131401\n",
      "218 0.131284\n",
      "219 0.131168\n",
      "220 0.131053\n",
      "221 0.130939\n",
      "222 0.130826\n",
      "223 0.130714\n",
      "224 0.130603\n",
      "225 0.130493\n",
      "226 0.130383\n",
      "227 0.130275\n",
      "228 0.130167\n",
      "229 0.13006\n",
      "230 0.129953\n",
      "231 0.129848\n",
      "232 0.129743\n",
      "233 0.12964\n",
      "234 0.129537\n",
      "235 0.129434\n",
      "236 0.129333\n",
      "237 0.129232\n",
      "238 0.129132\n",
      "239 0.129033\n"
     ]
    }
   ],
   "source": [
    "with tf.Session() as sess:\n",
    "    sess.run(tf.global_variables_initializer())\n",
    "    prev_err = 0\n",
    "    for epoch in range(training_epochs):\n",
    "        err, _ = sess.run([cost, train_op], {X: xs, Y: ys}) # err = cost\n",
    "        print(epoch, err)\n",
    "        if abs(prev_err - err) < 0.0001: # adjust to see curve change with epochs\n",
    "            break # Check when the error is small enough to quit\n",
    "        prev_err = err\n",
    "    w_val = sess.run(w, {X: xs, Y: ys})"
   ]
  },
  {
   "cell_type": "markdown",
   "metadata": {},
   "source": [
    "Plot the resulting sigmoid:"
   ]
  },
  {
   "cell_type": "code",
   "execution_count": 8,
   "metadata": {},
   "outputs": [
    {
     "data": {
      "image/png": "[encoded data removed]",
      "text/plain": [
       "<Figure size 432x288 with 1 Axes>"
      ]
     },
     "metadata": {},
     "output_type": "display_data"
    }
   ],
   "source": [
    "all_xs = np.linspace(-10, 10, 100)\n",
    "plt.plot(all_xs, sigmoid(all_xs * w_val[1] + w_val[0]), 'r') # calculate the sigmoid\n",
    "plt.grid(), plt.title(\"Sigmoid function and the scatter points\")\n",
    "plt.pause(1)"
   ]
  },
  {
   "cell_type": "code",
   "execution_count": null,
   "metadata": {},
   "outputs": [],
   "source": []
  }
 ],
 "metadata": {
  "kernelspec": {
   "display_name": "Python 3",
   "language": "python",
   "name": "python3"
  },
  "language_info": {
   "codemirror_mode": {
    "name": "ipython",
    "version": 3
   },
   "file_extension": ".py",
   "mimetype": "text/x-python",
   "name": "python",
   "nbconvert_exporter": "python",
   "pygments_lexer": "ipython3",
   "version": "3.6.5"
  }
 },
 "nbformat": 4,
 "nbformat_minor": 2
}
