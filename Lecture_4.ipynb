{
 "cells": [
  {
   "cell_type": "code",
   "execution_count": 1,
   "metadata": {},
   "outputs": [],
   "source": [
    "import tensorflow as tf"
   ]
  },
  {
   "cell_type": "code",
   "execution_count": 2,
   "metadata": {},
   "outputs": [],
   "source": [
    "import numpy as np"
   ]
  },
  {
   "cell_type": "markdown",
   "metadata": {},
   "source": [
    "## Supervised Machine Learning\n",
    "#### The two groups of supervised learning are:\n",
    "- Classification: A classification problem is when the output variable is a category\n",
    "- Regression: A regression problem is when the output variable is a real value\n",
    "\n",
    "#### Some popular examples of supervised machine learning algorithms are:\n",
    "- Linear regression for regression problems\n",
    "- Random Forest for classification and regresion problems\n",
    "- Support vector machines (SVM) for classification problems"
   ]
  },
  {
   "cell_type": "markdown",
   "metadata": {},
   "source": [
    "## Unsupervised Machine Learning\n",
    "- Unsupervised learning is where you only have input data and no corresponding output variables\n",
    "- The goal for unsupervised learning is to model the underlying stgructure or distribution in the data in order to learn more about the data\n",
    "- These are called unsupervised learning because unlike supervised learning above there is no correct answers and there is not teacher. Algorithms are left to their own devises to discover and present the interesting structure in the data\n",
    "\n",
    "#### Unsupervised Learning problems can be further grouped into clustering and association problems:\n",
    "- Clustering: A clustering problem is where you want to discover the inherent groupings in the data, such grouping customers by puchasing behavior\n",
    "- Association: An association rule learning problem is where you want to discover rules that describe large portions of your data, such as people that buy X also tend to buy Y.\n",
    "\n",
    "#### Some popular examples of unsupervised learning algorithms are:\n",
    "- k-means for clustering problems\n",
    "- A priori algorithm for association rule learning problems"
   ]
  },
  {
   "cell_type": "markdown",
   "metadata": {},
   "source": [
    "## Semi-Supervised Machine Learning\n",
    "- Problems where we have a large amount of input data and only some of it is labeled (Y) are called semi-supervised learning problems\n",
    "- These problems sit in between both supervised and unsupervised learning\n",
    "- A good example is a photo archive where only some of the images are labeled, (e.g. dog, cat, person) and the majority are unlabeled\n",
    "- Many real world machine learning problems fall into this area\n",
    "- It can be expensive or time-consuming to label data as it may require access to domain experts\n",
    "- Hence unlabeled data is cheap and eash to collect and store\n",
    "- You can use supervised learning techniques to discover and learn the structure in the input variables\n",
    "- you can also use supervised learning techniques to make best guess predictions for the unlabeled data, feed that data back into the supervised algorithm as training data and use the model to make predictions on new unseen data (back propogation)"
   ]
  },
  {
   "cell_type": "markdown",
   "metadata": {},
   "source": [
    "## Association Learning\n",
    "#### Can be applied if no class is specified and any kind of structure is considered \"interesting\"\n",
    "#### Difference to Classification Learning:\n",
    "- Can predict any attribute's value\n"
   ]
  },
  {
   "cell_type": "markdown",
   "metadata": {},
   "source": [
    "## Clustering\n",
    "#### Finding groups of items that are similar\n",
    "#### Clustering is unsupervised\n",
    "- The class of an example is not known\n",
    "\n",
    "- Sucess often measured subjectively\n",
    "- Clustering techniques apply when there is no calss to be predicted: they perform unsupervised learning\n",
    "- Aim: divide instanves into \"natural\" groups\n",
    "\n",
    "#### Clusters can be:\n",
    "- disjoint vs. overlapping\n",
    "- deterministic vs. probablistic\n",
    "- flat vs. hierarchial"
   ]
  },
  {
   "cell_type": "markdown",
   "metadata": {},
   "source": [
    "## Numeric prediction\n",
    "- Variant of classification learning where \"class\" is numeric (also called regression)\n",
    "- Each instance is described by a fixed predefined set of features, its attributes\n",
    "- But, number of attributes may vary in practice\n",
    "    - Possible solution: \"irrelevant value\" flag\n",
    "- Related Problem: existence of an attribute may depend on value of another one"
   ]
  },
  {
   "cell_type": "markdown",
   "metadata": {},
   "source": [
    "## The k-means algorithm\n",
    "- Step 1: Choose k random cluster centers\n",
    "- Step 2: Assign each instance to its closest cluster center based on Euclidean distance\n",
    "- Step 3: Re-compute cluster centers by computing the average (aka centroid) of the instances pertaining to each cluster\n",
    "- Step 4: If cluster centers have moved, go back to step 2\n",
    "\n",
    "#### This algorithm minimizes the squared Euclidean distance of the instances from their corresponding cluster centers\n",
    "- determines a solution that achieves a local minimum of the squared Euclidean distance\n",
    "\n",
    "#### Equivalent termination criterion: stop when assignment of instances to cluster centers..."
   ]
  },
  {
   "cell_type": "markdown",
   "metadata": {},
   "source": [
    "## K-Means with Tensorflow\n",
    "#### Example"
   ]
  },
  {
   "cell_type": "code",
   "execution_count": 3,
   "metadata": {},
   "outputs": [],
   "source": [
    "import matplotlib.pyplot as plt"
   ]
  },
  {
   "cell_type": "code",
   "execution_count": 4,
   "metadata": {},
   "outputs": [],
   "source": [
    "# Create aliases:\n",
    "tf.sub = tf.subtract"
   ]
  },
  {
   "cell_type": "code",
   "execution_count": 5,
   "metadata": {},
   "outputs": [],
   "source": [
    "points_n = 200\n",
    "clusters_n = 3\n",
    "iterations_n = 100"
   ]
  },
  {
   "cell_type": "markdown",
   "metadata": {},
   "source": [
    "#### 1. Let's generate random data points with a uniform distribution and assign them to a 2D tensor constant. Then, randomly choose initial centroids from the set of data points\n"
   ]
  },
  {
   "cell_type": "code",
   "execution_count": 6,
   "metadata": {},
   "outputs": [],
   "source": [
    "points = tf.constant(np.random.uniform(0, 10, (points_n, 2)))\n",
    "centroids = tf.Variable(tf.slice(tf.random_shuffle(points), [0, 0], [clusters_n, -1]))"
   ]
  },
  {
   "cell_type": "markdown",
   "metadata": {},
   "source": [
    "#### 2. Next we want to be able to do element-wise subtraction of points and centroids that are 2D tensors. Because the tensors have different shape, let's expand points and centroids into 3 dimensions, which allows us to use the broadcasting feature of subtraction operation:"
   ]
  },
  {
   "cell_type": "code",
   "execution_count": 7,
   "metadata": {},
   "outputs": [],
   "source": [
    "points_expanded = tf.expand_dims(points, 0)\n",
    "centroids_expanded = tf.expand_dims(centroids, 1)"
   ]
  },
  {
   "cell_type": "code",
   "execution_count": 8,
   "metadata": {},
   "outputs": [
    {
     "data": {
      "text/plain": [
       "(200, 2)"
      ]
     },
     "execution_count": 8,
     "metadata": {},
     "output_type": "execute_result"
    }
   ],
   "source": [
    "sess = tf.Session()\n",
    "init = tf.global_variables_initializer()\n",
    "sess.run(init)\n",
    "sess.run(points).shape"
   ]
  },
  {
   "cell_type": "code",
   "execution_count": 9,
   "metadata": {},
   "outputs": [
    {
     "data": {
      "text/plain": [
       "(1, 200, 2)"
      ]
     },
     "execution_count": 9,
     "metadata": {},
     "output_type": "execute_result"
    }
   ],
   "source": [
    "sess.run(points_expanded).shape"
   ]
  },
  {
   "cell_type": "code",
   "execution_count": 10,
   "metadata": {},
   "outputs": [
    {
     "data": {
      "text/plain": [
       "(3, 2)"
      ]
     },
     "execution_count": 10,
     "metadata": {},
     "output_type": "execute_result"
    }
   ],
   "source": [
    "sess.run(centroids).shape"
   ]
  },
  {
   "cell_type": "code",
   "execution_count": 11,
   "metadata": {},
   "outputs": [
    {
     "data": {
      "text/plain": [
       "(3, 1, 2)"
      ]
     },
     "execution_count": 11,
     "metadata": {},
     "output_type": "execute_result"
    }
   ],
   "source": [
    "sess.run(centroids_expanded).shape"
   ]
  },
  {
   "cell_type": "markdown",
   "metadata": {},
   "source": [
    "#### 3. Then, calculate the distances between points and centroids and determine the cluster assignments:"
   ]
  },
  {
   "cell_type": "code",
   "execution_count": 12,
   "metadata": {},
   "outputs": [],
   "source": [
    "distances = tf.reduce_sum(tf.square(tf.sub(points_expanded, centroids_expanded)),2)\n",
    "assignments = tf.argmin(distances, 0)"
   ]
  },
  {
   "cell_type": "code",
   "execution_count": 13,
   "metadata": {},
   "outputs": [],
   "source": [
    "means = []\n",
    "for c in range(clusters_n):\n",
    "    means.append(tf.reduce_mean(tf.gather(points, tf.reshape(tf.where(tf.equal(assignments, c)), [1, -1])), reduction_indices=[1]))"
   ]
  },
  {
   "cell_type": "markdown",
   "metadata": {},
   "source": [
    "#### 4. Next, we can compare each cluster with a cluster assignments vector, get points assigned to each cluster, and calculate mean values. These mean values are refined centroids, so let's update the centroids variable with the new values"
   ]
  },
  {
   "cell_type": "code",
   "execution_count": 14,
   "metadata": {},
   "outputs": [],
   "source": [
    "new_centroids = tf.concat(means, 0)\n",
    "\n",
    "update_centroids = tf.assign(centroids, new_centroids)\n",
    "init = tf.global_variables_initializer()"
   ]
  },
  {
   "cell_type": "markdown",
   "metadata": {},
   "source": [
    "#### 5. Next we run the graph. For each iteration, we update the centroids and return their values along with the cluster assignments value:"
   ]
  },
  {
   "cell_type": "code",
   "execution_count": 15,
   "metadata": {},
   "outputs": [],
   "source": [
    "with tf.Session() as sess:\n",
    "    sess.run(init)\n",
    "    for step in range(iterations_n):\n",
    "        [_, centroid_values, points_values, assignment_values] = sess.run([update_centroids, centroids, points, assignments])\n",
    "        "
   ]
  },
  {
   "cell_type": "markdown",
   "metadata": {},
   "source": [
    "#### 6. Finally, we display the coordinates of the final centroids and a multi-colored scatter plot showing how the data points have been clustered:"
   ]
  },
  {
   "cell_type": "code",
   "execution_count": 16,
   "metadata": {},
   "outputs": [
    {
     "name": "stdout",
     "output_type": "stream",
     "text": [
      "centroids\n",
      " [[ 3.43413009  2.19453173]\n",
      " [ 3.98718178  7.91998128]\n",
      " [ 8.09383928  4.23647807]]\n"
     ]
    },
    {
     "data": {
      "image/png": "[encoded data removed]",
      "text/plain": [
       "<Figure size 432x288 with 1 Axes>"
      ]
     },
     "metadata": {},
     "output_type": "display_data"
    }
   ],
   "source": [
    "print(\"centroids\" + \"\\n\", centroid_values)\n",
    "\n",
    "plt.scatter(points_values[:,0], points_values[:,1], c=assignment_values, s=50, alpha=0.5)\n",
    "plt.plot(centroid_values[:,0], centroid_values[:,1], 'kx', markersize=15)\n",
    "plt.pause(1)    "
   ]
  },
  {
   "cell_type": "markdown",
   "metadata": {},
   "source": [
    "The data in a training set is grouped into clusters as the result of implementing the k-means algorithm in TensorFlow"
   ]
  },
  {
   "cell_type": "markdown",
   "metadata": {},
   "source": [
    "#### The models may vary significantly in:\n",
    "- the number of operations they use (multiply, add, etc.)\n",
    "- the way they combine\n",
    "- the number of parameters they have\n",
    "\n",
    "#### Regardless, we always apply the same general structure for training them:\n",
    "1. Initialize model parameters for the first time\n",
    "2. Input training data along with the expected output data for each data example\n",
    "3. Execute inference model on training data, so it calculates for each training input example\n",
    "4. Compute the loss\n",
    "5. to 2. Adjust model parameters"
   ]
  },
  {
   "cell_type": "markdown",
   "metadata": {},
   "source": [
    "#### The loop repeats this process through a number of cycles, according to:\n",
    "- the learning rate that we need to apply, and\n",
    "- depending on the model and data we input to it\n",
    "\n",
    "#### After training, we apply an evaluation phase:\n",
    "- we execute the inference against a different set data to which we also have the expected output, and evaluate the loss for it"
   ]
  },
  {
   "cell_type": "code",
   "execution_count": 17,
   "metadata": {},
   "outputs": [],
   "source": [
    "## Initialize variables/model parameters\n",
    "\n",
    "## define the training loop operations\n",
    "# def inference(X):\n",
    "    ## compute inference model over data X and return the result\n",
    "\n",
    "# def loss(X, Y):\n",
    "    ## compute loss over training data X and expected outputs Y\n",
    "    \n",
    "# def inputs():\n",
    "    ## read/generate input training data X and expected outputs Y\n",
    "\n",
    "# def train(total_loss):\n",
    "    ## train/adjust model parameters according to computed total loss\n",
    "    \n",
    "# def evaluate(sess, X, Y):\n",
    "    ## evaluate the resulting trained model"
   ]
  },
  {
   "cell_type": "code",
   "execution_count": 18,
   "metadata": {},
   "outputs": [],
   "source": [
    "# # Launch the graph in a session, setup boilerplate\n",
    "# with tf.Session() as sess:\n",
    "#     tf.initialize_all_variables.run()\n",
    "    \n",
    "#     X, Y = inputs()\n",
    "    \n",
    "#     total_loss = loss(X, Y)\n",
    "#     train_op = train(total_loss)\n",
    "\n",
    "#     coord = tf.traing.Coordinator()\n",
    "#     threads = tf.train.start_queue_runners(sess=sess, coord=coord)\n",
    "    \n",
    "#     # actual training loop\n",
    "#     training_steps = 1000\n",
    "#     for step in range(training_steps):\n",
    "#         sess.run([train_op])\n",
    "#         # for debugging and learning purposes, \n",
    "#         # see how the loss gets decremented thre training steps"
   ]
  },
  {
   "cell_type": "code",
   "execution_count": 19,
   "metadata": {},
   "outputs": [],
   "source": [
    "#         if step % 10 == 0:\n",
    "#             print \"loss: \", sess.run([total_loss])\n",
    "\n",
    "#     evaluate(sess, X, Y)\n",
    "    \n",
    "#     coord.request_stop()\n",
    "#     coord.join(threads)\n",
    "#     sess.close()"
   ]
  },
  {
   "cell_type": "markdown",
   "metadata": {},
   "source": [
    "### Saving training checkpoints\n",
    "- As we already stated, training models implies updating their parameters, or variables in TF, through many training cycles\n",
    "- Variables are stored in memory, so if the computer would lose power after many hours of training, we would lose all of that work, so...\n",
    "- We use tf.train.Saver class to save the graph variables in proprietary binary files\n",
    "- We should periodically save the variables, create a checkpoint file, and eventually restore the training from the most recent checkpoint if needed"
   ]
  },
  {
   "cell_type": "markdown",
   "metadata": {},
   "source": [
    "In order to use the Saver we need to slightly change the training loop scaffolding code:"
   ]
  },
  {
   "cell_type": "code",
   "execution_count": 20,
   "metadata": {},
   "outputs": [],
   "source": [
    "# # model definition code ...\n",
    "\n",
    "# # Create a saver.\n",
    "# saver = tf.train.Saver()\n",
    "\n",
    "# # Launch the graph in a session, setup boilerplate\n",
    "# with tf.Session() as sess:\n",
    "    \n",
    "#     # model setup ...\n",
    "    \n",
    "#     # actual training loop\n",
    "#     for step in range(training_steps):\n",
    "#         sess.run([train_op])\n",
    "        \n",
    "#         if step % 1000 == 0:\n",
    "#             saver.save(sess, 'my-model', global_step=step)\n",
    "    \n",
    "#     # evaluation ...\n",
    "    \n",
    "#     saver.save(sess, 'my-model', global_training_step=step)\n",
    "    \n",
    "#     sess.close()"
   ]
  },
  {
   "cell_type": "markdown",
   "metadata": {},
   "source": [
    "- if we wish to recover the training from a certain point, we should use the tf.train_checkpoint_state() method\n",
    "- It will verify if we already have a checkpoint saved, and the tf.train.Saver.restore() method to recover the variable values"
   ]
  },
  {
   "cell_type": "code",
   "execution_count": 21,
   "metadata": {},
   "outputs": [],
   "source": [
    "# with tf.Session() as sess:\n",
    "    \n",
    "#     # model setup ...\n",
    "    \n",
    "#     initial_step = 0\n",
    "    \n",
    "#     # verify if we don't have a checkpoint saved already\n",
    "#     ckpt = tf.train.get_checkpoint_state(os.path.dirname(__file__))\n",
    "#     if ckpt and ckpt.model_checkpoint_path:\n",
    "#         # Restores from checkpoint\n",
    "#         saver.restore(sess, ckpt.model_checkpoint_path)\n",
    "#         initial_step = int(ckpy.model_checkpoint_path.rsplit('-', 1)[1])\n",
    "        \n",
    "#     # actual training loop\n",
    "#     for step in range(initial_step, training_steps):\n",
    "#         # ..."
   ]
  },
  {
   "cell_type": "markdown",
   "metadata": {},
   "source": [
    "## Linear Regression"
   ]
  },
  {
   "cell_type": "code",
   "execution_count": 22,
   "metadata": {},
   "outputs": [],
   "source": [
    "# # initialize variables/model parameters\n",
    "# W = tf.Variable(tf.zeros([2, 1]), name=\"weights\")\n",
    "# b = tf.Variable(0., name=\"bias\")\n",
    "\n",
    "# def inference(X):\n",
    "#     return tf.matmul(X, W) + b"
   ]
  },
  {
   "cell_type": "markdown",
   "metadata": {},
   "source": [
    "- Now we have to define how to compute the loss\n",
    "- For a simple model we can use the squared error:\n",
    "    - It sums the squared difference of all the predicted values for each training example with their corresponding expected values.\n",
    "    - Algebraically it is the squared Euclidean distance between the predicted output vector and the expected one\n",
    "- Graphically in a 2d dataset the error is the length of the vertical line that you can trace from the expected data point to the predicrted regression line\n",
    "\n",
    "- It is also known as L2 norm or L2 loss function\n",
    "- We use it squared to avoid copmputing the square root, since it makes no difference for trying to minimize the loss and saves a computing step\n",
    "    loss = sum(y_init - y_predicted)^2\n",
    "- we sum over i, where i is each data example"
   ]
  },
  {
   "cell_type": "markdown",
   "metadata": {},
   "source": [
    "in code:"
   ]
  },
  {
   "cell_type": "code",
   "execution_count": 23,
   "metadata": {},
   "outputs": [],
   "source": [
    "# def loss(X, Y):\n",
    "#     Y_predicted = inference(X)\n",
    "#     return tf.reduce_sum(tf.squared_difference(Y, Y_predicted))"
   ]
  },
  {
   "cell_type": "markdown",
   "metadata": {},
   "source": [
    "Let's train our model with data:"
   ]
  },
  {
   "cell_type": "code",
   "execution_count": 24,
   "metadata": {},
   "outputs": [],
   "source": [
    "# def inputs():\n",
    "#     weight_age = [ ... ]\n",
    "#     blood_fat_content = [ ... ]\n",
    "#     return tf.to_float(weight_age), tf.to_float(blood_fat_content)"
   ]
  },
  {
   "cell_type": "markdown",
   "metadata": {},
   "source": [
    "Next we define the model training operation.\n",
    "\n",
    "We will use the gradient descent algorithm for optimizing the model parameters:"
   ]
  },
  {
   "cell_type": "code",
   "execution_count": 25,
   "metadata": {},
   "outputs": [],
   "source": [
    "# def train(total_loss):\n",
    "#     learning_rate = 0.0000001\n",
    "#     return tf.train.GradientDescentOptimizer(learning_rate).minimize(total_loss)"
   ]
  },
  {
   "cell_type": "markdown",
   "metadata": {},
   "source": [
    "- when you run it, you will see printed how the loss gets smaller on each training step"
   ]
  },
  {
   "cell_type": "code",
   "execution_count": 26,
   "metadata": {},
   "outputs": [],
   "source": [
    "# def evaluate(sess, X, Y):\n",
    "#     print sess.run(inference([[80., 25.]])) # ~ 303\n",
    "#     print sess.run(inference([[65., 25.]])) # ~ 256"
   ]
  },
  {
   "cell_type": "markdown",
   "metadata": {},
   "source": [
    "Now that we trained the model, it's time to evaluate it:"
   ]
  },
  {
   "cell_type": "code",
   "execution_count": 27,
   "metadata": {},
   "outputs": [],
   "source": [
    "# def evaluate(sess, X, Y):\n",
    "#     print sess.run(inference([[80., 25.]])) # ~ 303\n",
    "#     print sess.run(inference([[65., 25.]])) # ~ 256"
   ]
  },
  {
   "cell_type": "markdown",
   "metadata": {},
   "source": [
    "- as a quick evaluation, you can chack that the model learned how the blood fat decays with weight\n",
    "- Also, the output values are in between the boundaries of the original trained values"
   ]
  },
  {
   "cell_type": "markdown",
   "metadata": {},
   "source": [
    "## Logistic Regression\n",
    "\n",
    "- Working with Logistic regression\n",
    "    - The linear regression model predicts a continuous value, or any real number.\n",
    "    - Now we are going to present a model that can answer a yes-no type of question, like \"Is this email spam?\"\n",
    "\n",
    "- There is a function used commonly in ML called the logistic function. It is also known as the sigmoid function, because its shape is an S\n",
    "\n",
    "    f(x) = 1/(1+e^(-1))"
   ]
  },
  {
   "cell_type": "markdown",
   "metadata": {},
   "source": [
    "In order to feed the function with the multiple dimensions, or features from the examples of our training datasets, we need to combine them into a single value"
   ]
  },
  {
   "cell_type": "code",
   "execution_count": 28,
   "metadata": {},
   "outputs": [],
   "source": [
    "# # Same params and variables initialization as log reg\n",
    "# W = tf.Variable(tf.zeros([5, 1]), name=\"weights\")\n",
    "# b = tf.Variable(0., name=\"bias\")\n",
    "\n",
    "# # former inference is now used for combining inputs\n",
    "# def combine_inputs(X):\n",
    "#     return tf.matmul(X, W) + b\n",
    "\n",
    "# # new inferred value is the sigmoid applied to the former\n",
    "# def inference(X):\n",
    "#     return tf.sigmoid(combine_inputs(X))"
   ]
  },
  {
   "cell_type": "markdown",
   "metadata": {},
   "source": [
    "## Cross Entropy\n",
    "\n",
    "There is a TensorFlow method for calculating cross entropy directly for a sigmoid output in a single, optimized step:"
   ]
  },
  {
   "cell_type": "code",
   "execution_count": 29,
   "metadata": {},
   "outputs": [],
   "source": [
    "# def loss(X, Y):\n",
    "#     return tf.reduce_mean(tf.nn.sigmoid_cross_entropy_with_logits(combine_inputs(X), Y))"
   ]
  },
  {
   "cell_type": "markdown",
   "metadata": {},
   "source": [
    "## Titanic Survivor Data"
   ]
  },
  {
   "cell_type": "code",
   "execution_count": 30,
   "metadata": {},
   "outputs": [],
   "source": [
    "def read_csv(batch_size, file_name, record_defaults):\n",
    "    filename_queue = tf.train.string_input_producer([os.path.join(os.getcwd(), file_name)])\n",
    "    \n",
    "    reader = tf.TextLineReader(skip_header_lines=1)\n",
    "    key, value = reader.read(filename_queue)\n",
    "    \n",
    "    # decode_csv will convert a Tensor from type string (the text line)\n",
    "    # in a tuple of tensor columns with the specified defaults, which also\n",
    "    # sets the data type for each column\n",
    "    decoded = tf.decode_csv(value, record_defaults=record_defaults)\n",
    "    \n",
    "    # batch actually reads the file and loads \"batch_size\" rows in a single tensor\n",
    "    return tf.train.shuffle_batch(decoded, \n",
    "                                 batch_size=batch_size,\n",
    "                                 capacity=batch_size * 50,\n",
    "                                 min_after_dequeue=bath_size)"
   ]
  },
  {
   "cell_type": "markdown",
   "metadata": {},
   "source": [
    "- This model will have to infer, based on the passenger age, sex, and ticket class if the passenger survived or not\n",
    "- We have to use categorical data from this dataset:\n",
    "    - Ticket class and gender are string features with a predefined possible set of values that they can take\n",
    "    - To use them in the inference model we need to convert them to numbers\n",
    "    - A naive approach might be assigning a number for each possible balue\n",
    "    - For instance, you can use \"1\" for first ticket class, \"2\" for second, and \"3\" for third"
   ]
  },
  {
   "cell_type": "code",
   "execution_count": 31,
   "metadata": {},
   "outputs": [],
   "source": [
    "def inputs():\n",
    "    passenger_id, survived, pclass, name, sex, age, sibsp, parch, ticket, fare, cabin, embarked = \\\n",
    "        read_csv(100, \"train.csv\", [[0.0], [0.0], [0], [\"\"], [\"\"], [0.0], [0.0], [0.0], [\"\"], [0.0], [\"\"], [\"\"]])\n",
    "    # convert categorical data\n",
    "    is_first_class = tf.to_float(tf.equal(pclass, [1]))\n",
    "    is_second_class = tf.to_float(tf.equal(pclass, [2]))\n",
    "    is_third_class = tf.to_float(tf.equal(pclass, [3]))\n",
    "    \n",
    "    gender = tf.to_float(tf.equal(sex, [\"female\"]))\n",
    "    \n",
    "    # Finally we pack all the features in a single matrix;\n",
    "    # We then transpose to have a matrix with \n",
    "    # one example per row and one feature per column\n",
    "    features = tf.transpose(tf.pack([is_first_class, is_second_class, is_third_class, gendewr, age]))\n",
    "    survived = tf.reshape(survived, [100, 1])\n",
    "    \n",
    "    return features, survived"
   ]
  },
  {
   "cell_type": "markdown",
   "metadata": {},
   "source": [
    "Let's train our model now:"
   ]
  },
  {
   "cell_type": "code",
   "execution_count": 32,
   "metadata": {},
   "outputs": [],
   "source": [
    "def train(total_loss):\n",
    "    learning_rate = 0.01\n",
    "    return tf.train.GradientDescentOptimizer(learning_rate).minimize(total_loss)"
   ]
  },
  {
   "cell_type": "markdown",
   "metadata": {},
   "source": [
    "To evaluate the results we are going to run the inference against a batch of the training set and count the number of examples that were correctly predicted. We call that measuring the accuracy"
   ]
  },
  {
   "cell_type": "code",
   "execution_count": 33,
   "metadata": {},
   "outputs": [],
   "source": [
    "def evaluate(sess, X, Y):\n",
    "    \n",
    "    predicted = tf.cast(inference(X) > 0.5, tf.float32)\n",
    "    \n",
    "    print (sess.run(tf.reduce_mean(tf.cast(tf.equal(predicted, Y), tf.float32))))"
   ]
  },
  {
   "cell_type": "markdown",
   "metadata": {},
   "source": [
    "## Softmax Classification"
   ]
  },
  {
   "cell_type": "markdown",
   "metadata": {},
   "source": [
    "- We want to be able to answer a multiple choice type of question\n",
    "- for that case there is the softmax function, which is a generalization of the logistic regression for C possible different values"
   ]
  },
  {
   "cell_type": "markdown",
   "metadata": {},
   "source": [
    "- Softmax function returns a probability vector of C components, filling the corresponding probability for each output class\n",
    "- The sum of the C vector components always = 1 (it is a prob.)\n",
    "- To code this model, we will need to change from the prev models in the variable initialization\n",
    "- Given that our model computs C outputs instead of just one, we need to have C different weight groups, one for each possible output\n",
    "- So, we will use weights matrix, instead of weights vector\n",
    "- That matrix will have one row for each input feature, and one column for each output class"
   ]
  },
  {
   "cell_type": "markdown",
   "metadata": {},
   "source": [
    "### Iris Flower Dataset w/Softmax\n",
    "- 4 data features and\n",
    "- 3 possible output classes, one for each type of iris plant\n",
    "- so our weights matrix should have a 4x3 dimension"
   ]
  },
  {
   "cell_type": "markdown",
   "metadata": {},
   "source": [
    "The variable initialization code:"
   ]
  },
  {
   "cell_type": "code",
   "execution_count": 34,
   "metadata": {},
   "outputs": [],
   "source": [
    "# this time weights form a matrix, not a vector, with one \"feature weights column\" per output class\n",
    "W = tf.Variable(tf.zeros([4, 3]), name=\"weights\")\n",
    "# so do the biases, one per output class\n",
    "b = tf.Variable(tf.zeros([3], name=\"bias\"))"
   ]
  },
  {
   "cell_type": "markdown",
   "metadata": {},
   "source": [
    "Tensorflow contains an embedded implementation of the softmax function:"
   ]
  },
  {
   "cell_type": "code",
   "execution_count": 35,
   "metadata": {},
   "outputs": [],
   "source": [
    "def inference(X):\n",
    "    return tf.nn.softmax(combine_inputs(X))"
   ]
  },
  {
   "cell_type": "markdown",
   "metadata": {},
   "source": [
    "- There are two versions implemented in TF for the softmax crossentropy function: one specially optimized for training sets with s single class value per example\n",
    "- i.e., our training data may have a class value that could be either \"dog\", \"person\", or \"tree\"\n",
    "- That function is:\n",
    "    tf.nn.sparse_softmax_cross_entropy_with_logits"
   ]
  },
  {
   "cell_type": "code",
   "execution_count": 36,
   "metadata": {},
   "outputs": [],
   "source": [
    "def loss(X, Y):\n",
    "    return tf.reduce_mean(tf.nn.sparse_softmax_cross_entropy_with_logits(combine_inputs(X), Y))"
   ]
  },
  {
   "cell_type": "markdown",
   "metadata": {},
   "source": [
    "- the other function lets you work with training sets containing the probabilities of each example to belong to every class\n",
    "- For example, you could use training data like \"60% of the asked people consider that this picture is about dogs, 25% about trees, and the rest about a person\"\n",
    "- That function is: tf.nn.softmax_cross_entropy_with_logits"
   ]
  },
  {
   "cell_type": "markdown",
   "metadata": {},
   "source": [
    "We will ruse the read_csv function from the logistic regression example, but will call it with the defaults for the values on our dataset, which are all numeric:"
   ]
  },
  {
   "cell_type": "code",
   "execution_count": 43,
   "metadata": {},
   "outputs": [],
   "source": [
    "def inputs():\n",
    "    sepal_length, sepal_width, petal_length, petal_width, label = read_csv(100, \"iris.data\", [[0.0], [0.0], [0.0], [0.0], [\"\"]])"
   ]
  },
  {
   "cell_type": "code",
   "execution_count": 44,
   "metadata": {},
   "outputs": [
    {
     "ename": "NameError",
     "evalue": "name 'label' is not defined",
     "output_type": "error",
     "traceback": [
      "\u001b[0;31m---------------------------------------------------------------------------\u001b[0m",
      "\u001b[0;31mNameError\u001b[0m                                 Traceback (most recent call last)",
      "\u001b[0;32m<ipython-input-44-0cd9cdbcbf20>\u001b[0m in \u001b[0;36m<module>\u001b[0;34m()\u001b[0m\n\u001b[1;32m      1\u001b[0m \u001b[0;31m# convert classnames to a 0 based class index\u001b[0m\u001b[0;34m\u001b[0m\u001b[0;34m\u001b[0m\u001b[0m\n\u001b[1;32m      2\u001b[0m label_number = tf.to_int32(tf.argmax(tf.to_int32(tf.stack([\n\u001b[0;32m----> 3\u001b[0;31m     \u001b[0mtf\u001b[0m\u001b[0;34m.\u001b[0m\u001b[0mequal\u001b[0m\u001b[0;34m(\u001b[0m\u001b[0mlabel\u001b[0m\u001b[0;34m,\u001b[0m \u001b[0;34m[\u001b[0m\u001b[0;34m\"Iris-setosa\"\u001b[0m\u001b[0;34m]\u001b[0m\u001b[0;34m)\u001b[0m\u001b[0;34m,\u001b[0m\u001b[0;34m\u001b[0m\u001b[0m\n\u001b[0m\u001b[1;32m      4\u001b[0m     \u001b[0mtf\u001b[0m\u001b[0;34m.\u001b[0m\u001b[0mequal\u001b[0m\u001b[0;34m(\u001b[0m\u001b[0mlabel\u001b[0m\u001b[0;34m,\u001b[0m \u001b[0;34m[\u001b[0m\u001b[0;34m\"Iris-versicolor\"\u001b[0m\u001b[0;34m]\u001b[0m\u001b[0;34m)\u001b[0m\u001b[0;34m,\u001b[0m\u001b[0;34m\u001b[0m\u001b[0m\n\u001b[1;32m      5\u001b[0m     \u001b[0mtf\u001b[0m\u001b[0;34m.\u001b[0m\u001b[0mequal\u001b[0m\u001b[0;34m(\u001b[0m\u001b[0mlabel\u001b[0m\u001b[0;34m,\u001b[0m \u001b[0;34m[\u001b[0m\u001b[0;34m\"Iris-virginica\"\u001b[0m\u001b[0;34m]\u001b[0m\u001b[0;34m)\u001b[0m\u001b[0;34m\u001b[0m\u001b[0m\n",
      "\u001b[0;31mNameError\u001b[0m: name 'label' is not defined"
     ]
    }
   ],
   "source": [
    "    # convert classnames to a 0 based class index\n",
    "    label_number = tf.to_int32(tf.argmax(tf.to_int32(tf.stack([\n",
    "        tf.equal(label, [\"Iris-setosa\"]),\n",
    "        tf.equal(label, [\"Iris-versicolor\"]),\n",
    "        tf.equal(label, [\"Iris-virginica\"])\n",
    "    ])), 0))\n",
    "    \n",
    "    # Pack all the features that we care about in a single matrix;\n",
    "    # We then transpose to have a mtrix with one example perrow and. one feature percolumn\n",
    "    features = tf.transpose(tf.pack([sepal_length, sepal_width, petal_length, petal_width]))\n",
    "    return features, label_number"
   ]
  },
  {
   "cell_type": "markdown",
   "metadata": {},
   "source": [
    "- The training function is also the same\n",
    "- For evaluation of accuracy, we need a slight change from the sigmoid version:"
   ]
  },
  {
   "cell_type": "code",
   "execution_count": null,
   "metadata": {},
   "outputs": [],
   "source": [
    "def evaluate(sess, X, Y):\n",
    "    predicted = tf.cast(tf.arg_max(inference(X), 1), tf.int32)\n",
    "    \n",
    "    print (sess.run(tf.reduce_mean(tf.cast(tf.equal (predicted, Y), tf.float32))))"
   ]
  },
  {
   "cell_type": "code",
   "execution_count": null,
   "metadata": {},
   "outputs": [],
   "source": []
  }
 ],
 "metadata": {
  "kernelspec": {
   "display_name": "Python 3",
   "language": "python",
   "name": "python3"
  },
  "language_info": {
   "codemirror_mode": {
    "name": "ipython",
    "version": 3
   },
   "file_extension": ".py",
   "mimetype": "text/x-python",
   "name": "python",
   "nbconvert_exporter": "python",
   "pygments_lexer": "ipython3",
   "version": "3.6.5"
  }
 },
 "nbformat": 4,
 "nbformat_minor": 2
}
